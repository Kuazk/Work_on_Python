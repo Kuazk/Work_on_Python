{
 "cells": [
  {
   "cell_type": "code",
   "execution_count": 7,
   "id": "83089a2f-a0b5-430f-8883-bdf77c3d720f",
   "metadata": {},
   "outputs": [],
   "source": [
    "__author__ = 'fengchen'\n",
    "\n",
    "from cvxopt import matrix, solvers, spmatrix\n",
    "import numpy as np\n",
    "import matplotlib.pyplot as plt\n",
    "from math import *\n",
    "\n",
    "def calc_Q_p_G_h(data):\n",
    "#     Q = spmatrix(2.0, range(3), range(3))\n",
    "    Q = matrix([0.0, 0.0, 0.0, 0.0, 0.0, 0.0, 0.0, 0.0, 0.0], (3,3))\n",
    "    Q[0,0] = 2\n",
    "    Q[1,1] = 2\n",
    "    p = matrix([0.0, 0.0, 0.0], (3,1))\n",
    "    G = []\n",
    "    h = []\n",
    "    for items in data:\n",
    "        row = []\n",
    "        if items[2] == 1:\n",
    "            row.extend([-1 * item for item in items[:2]])\n",
    "            row.append(-1)\n",
    "            G.append(row)\n",
    "            h.append(-1.0)\n",
    "        else:\n",
    "            row.extend(items[:2])\n",
    "            row.append(1)\n",
    "            G.append(row)\n",
    "            h.append(-1.0)\n",
    "    #print G\n",
    "    G = matrix(G).trans()\n",
    "    h = matrix(h)\n",
    "    print(Q, p)\n",
    "    print(G, h)\n",
    "    print(type(G))\n",
    "    return Q, p, G, h\n",
    "    \n",
    "    \n",
    "def plot(data, w1, w2, b, sol):\n",
    "    ### suppose you have obtained sol['x'] from CVXOPT QP minimization\n",
    "\n",
    "    x = [item[0] for item in data if item[2] == 1]\n",
    "    y = [item[1] for item in data if item[2] == 1]\n",
    "    plt.scatter(x, y, s=80, facecolors='none', edgecolors='r')\n",
    "    x = [item[0] for item in data if item[2] == -1]\n",
    "    y = [item[1] for item in data if item[2] == -1]\n",
    "    plt.scatter(x, y, s=80, facecolors='none', edgecolors='b')\n",
    "    x = [item[0] for item in data]\n",
    "    y = [item[1] for item in data]\n",
    "    plt.scatter(x, y, s=40, facecolors='none', edgecolors='k')\n",
    "    w1 = sol['x'][0]\n",
    "    w2 = sol['x'][1]\n",
    "    b  = sol['x'][2]\n",
    "\n",
    "    print('w: {0}; b: {1} \\n'.format([w1,w2], b))\n",
    "\n",
    "    print('w.x + b > 0 for positive class')\n",
    "    print('w.x + b < 0 for negative class') \n",
    "\n",
    "    x = [-1, 6]\n",
    "\n",
    "    y = [(w1 * x[i] + b)/(-1 * w2) for i in range(2)]\n",
    "\n",
    "    \n",
    "    plt.plot(x, y, color='red')\n",
    "\n",
    "    y = [(w1 * x[i] + b - 1)/(-1 * w2) for i in range(2)]\n",
    "\n",
    "    plt.plot(x, y, color='black')\n",
    "\n",
    "    y = [(w1 * x[i] + b + 1)/(-1 * w2) for i in range(2)]\n",
    "\n",
    "    plt.plot(x, y, color='black')\n",
    "    \n",
    "    plt.gca().set_aspect('equal', adjustable='box')\n",
    "\n",
    "    plt.grid()\n",
    "\n",
    "    plt.gcf().set_size_inches(5, 5)\n",
    "\n",
    "    plt.show()\n",
    "\n",
    "\n",
    "def svm_proc(data):\n",
    "    Q, p, G, h = calc_Q_p_G_h(data)\n",
    "    sol=solvers.qp(Q, p, G, h)\n",
    "    w1 = sol['x'][0]\n",
    "    w2 = sol['x'][1]\n",
    "    b  = sol['x'][2]\n",
    "    print('\\n\\nw1= {0}; w2={1}; b={2}'.format(w1, w2, b))\n",
    "    plot(data, w1, w2, b, sol)\n"
   ]
  },
  {
   "cell_type": "code",
   "execution_count": null,
   "id": "fc8aca41-83ee-4251-a06d-d8e06498c466",
   "metadata": {},
   "outputs": [
    {
     "name": "stdout",
     "output_type": "stream",
     "text": [
      "[ 2.00e+00  0.00e+00  0.00e+00]\n",
      "[ 0.00e+00  2.00e+00  0.00e+00]\n",
      "[ 0.00e+00  0.00e+00  0.00e+00]\n",
      " [ 0.00e+00]\n",
      "[ 0.00e+00]\n",
      "[ 0.00e+00]\n",
      "\n",
      "[-5.00e-01 -1.00e+00 -1.00e+00]\n",
      "[-1.00e+00 -5.00e-01 -1.00e+00]\n",
      "[ 2.00e+00  2.00e+00  1.00e+00]\n",
      " [-1.00e+00]\n",
      "[-1.00e+00]\n",
      "[-1.00e+00]\n",
      "\n",
      "<class 'cvxopt.base.matrix'>\n",
      "     pcost       dcost       gap    pres   dres\n",
      " 0:  3.3319e-01  9.7293e-01  2e+00  2e+00  6e-16\n",
      " 1:  7.1732e-01  1.1991e+00  2e-02  3e-01  2e-16\n",
      " 2:  1.2831e+00  1.2800e+00  3e-03  1e-16  5e-14\n",
      " 3:  1.2800e+00  1.2800e+00  3e-05  1e-16  2e-15\n",
      " 4:  1.2800e+00  1.2800e+00  3e-07  3e-16  1e-15\n",
      "Optimal solution found.\n",
      "\n",
      "\n",
      "w1= -0.8000000954977434; w2=-0.8000000954977432; b=2.200000279372788\n",
      "w: [-0.8000000954977434, -0.8000000954977432]; b: 2.200000279372788 \n",
      "\n",
      "w.x + b > 0 for positive class\n",
      "w.x + b < 0 for negative class\n"
     ]
    },
    {
     "data": {
      "image/png": "[encoded data removed]",
      "text/plain": [
       "<Figure size 360x360 with 1 Axes>"
      ]
     },
     "metadata": {
      "needs_background": "light"
     },
     "output_type": "display_data"
    }
   ],
   "source": [
    "data = [[0.5,1,1], [1,0.5,1], [2,2,-1]]\n",
    "svm_proc(data)"
   ]
  },
  {
   "cell_type": "code",
   "execution_count": null,
   "id": "4f8a704f-a6c8-42d7-8b51-cdb4e6700acd",
   "metadata": {},
   "outputs": [
    {
     "name": "stdout",
     "output_type": "stream",
     "text": [
      "[ 2.00e+00  0.00e+00  0.00e+00]\n",
      "[ 0.00e+00  2.00e+00  0.00e+00]\n",
      "[ 0.00e+00  0.00e+00  0.00e+00]\n",
      " [ 0.00e+00]\n",
      "[ 0.00e+00]\n",
      "[ 0.00e+00]\n",
      "\n",
      "[-5.00e-01 -1.00e+00 -1.00e+00]\n",
      "[-1.00e+00 -1.00e+00 -1.00e+00]\n",
      "[ 2.00e+00  2.00e+00  1.00e+00]\n",
      " [-1.00e+00]\n",
      "[-1.00e+00]\n",
      "[-1.00e+00]\n",
      "\n",
      "<class 'cvxopt.base.matrix'>\n",
      "     pcost       dcost       gap    pres   dres\n",
      " 0:  3.1865e-01  1.1437e+00  2e+00  2e+00  6e-16\n",
      " 1:  7.3137e-01  1.5280e+00  2e-01  4e-01  3e-16\n",
      " 2:  1.9734e+00  1.9984e+00  1e-01  4e-02  3e-14\n",
      " 3:  1.9997e+00  2.0000e+00  1e-03  4e-04  2e-15\n",
      " 4:  2.0000e+00  2.0000e+00  1e-05  4e-06  2e-15\n",
      " 5:  2.0000e+00  2.0000e+00  1e-07  4e-08  3e-15\n",
      "Optimal solution found.\n",
      "\n",
      "\n",
      "w1= -0.9999999926367941; w2=-0.9999999916426239; b=2.9999999726858544\n",
      "w: [-0.9999999926367941, -0.9999999916426239]; b: 2.9999999726858544 \n",
      "\n",
      "w.x + b > 0 for positive class\n",
      "w.x + b < 0 for negative class\n"
     ]
    },
    {
     "data": {
      "image/png": "[encoded data removed]",
      "text/plain": [
       "<Figure size 360x360 with 1 Axes>"
      ]
     },
     "metadata": {
      "needs_background": "light"
     },
     "output_type": "display_data"
    }
   ],
   "source": [
    "data = [[0.5,1,1], [1,1,1], [2,2,-1]]\n",
    "svm_proc(data)"
   ]
  },
  {
   "cell_type": "code",
   "execution_count": null,
   "id": "8dd979da-d9fb-41bb-a95b-21fcc572dc0d",
   "metadata": {},
   "outputs": [
    {
     "name": "stdout",
     "output_type": "stream",
     "text": [
      "[ 2.00e+00  0.00e+00  0.00e+00]\n",
      "[ 0.00e+00  2.00e+00  0.00e+00]\n",
      "[ 0.00e+00  0.00e+00  0.00e+00]\n",
      " [ 0.00e+00]\n",
      "[ 0.00e+00]\n",
      "[ 0.00e+00]\n",
      "\n",
      "[-5.00e+00 -3.00e+00 -1.00e+00]\n",
      "[-6.00e+00 -1.00e+00 -1.00e+00]\n",
      "[ 1.00e+00  2.00e+00  1.00e+00]\n",
      "[ 3.00e+00  1.00e+00  1.00e+00]\n",
      " [-1.00e+00]\n",
      "[-1.00e+00]\n",
      "[-1.00e+00]\n",
      "[-1.00e+00]\n",
      "\n",
      "<class 'cvxopt.base.matrix'>\n",
      "     pcost       dcost       gap    pres   dres\n",
      " 0:  2.3172e-01  1.4858e+00  7e+00  2e+00  8e+00\n",
      " 1:  1.1909e+00  4.0539e-01  8e-01  4e-16  1e-14\n",
      " 2:  6.0696e-01  5.4828e-01  6e-02  4e-16  6e-15\n",
      " 3:  5.5624e-01  5.5542e-01  8e-04  3e-16  2e-15\n",
      " 4:  5.5556e-01  5.5555e-01  8e-06  2e-16  3e-15\n",
      " 5:  5.5556e-01  5.5556e-01  8e-08  2e-16  5e-15\n",
      "Optimal solution found.\n",
      "\n",
      "\n",
      "w1= 0.6666667267107993; w2=0.33333331547659695; b=-3.3333335297147606\n",
      "w: [0.6666667267107993, 0.33333331547659695]; b: -3.3333335297147606 \n",
      "\n",
      "w.x + b > 0 for positive class\n",
      "w.x + b < 0 for negative class\n"
     ]
    },
    {
     "data": {
      "image/png": "[encoded data removed]",
      "text/plain": [
       "<Figure size 360x360 with 1 Axes>"
      ]
     },
     "metadata": {
      "needs_background": "light"
     },
     "output_type": "display_data"
    }
   ],
   "source": [
    "data = [[5.0,3.0,1], [6.0,1.0,1], [1.0,2.0,-1], [3.0, 1.0, -1]]\n",
    "svm_proc(data)"
   ]
  },
  {
   "cell_type": "code",
   "execution_count": null,
   "id": "582be7d3-af6c-4987-aa29-e9fd4772dc7f",
   "metadata": {},
   "outputs": [
    {
     "name": "stdout",
     "output_type": "stream",
     "text": [
      "[ 2.00e+00  0.00e+00  0.00e+00]\n",
      "[ 0.00e+00  2.00e+00  0.00e+00]\n",
      "[ 0.00e+00  0.00e+00  0.00e+00]\n",
      " [ 0.00e+00]\n",
      "[ 0.00e+00]\n",
      "[ 0.00e+00]\n",
      "\n",
      "[-4.00e+00 -3.00e+00 -1.00e+00]\n",
      "[-5.00e+00 -2.00e+00 -1.00e+00]\n",
      "[ 1.00e+00  2.00e+00  1.00e+00]\n",
      "[ 3.00e+00  1.00e+00  1.00e+00]\n",
      " [-1.00e+00]\n",
      "[-1.00e+00]\n",
      "[-1.00e+00]\n",
      "[-1.00e+00]\n",
      "\n",
      "<class 'cvxopt.base.matrix'>\n",
      "     pcost       dcost       gap    pres   dres\n",
      " 0:  3.3801e-01  7.3342e-01  1e+00  1e+00  2e-15\n",
      " 1:  5.9131e-01  8.4389e-01  4e-02  2e-01  7e-16\n",
      " 2:  8.8373e-01  8.8873e-01  3e-03  5e-03  3e-14\n",
      " 3:  8.8884e-01  8.8889e-01  3e-05  5e-05  2e-15\n",
      " 4:  8.8889e-01  8.8889e-01  3e-07  5e-07  4e-15\n",
      " 5:  8.8889e-01  8.8889e-01  3e-09  5e-09  3e-15\n",
      "Optimal solution found.\n",
      "\n",
      "\n",
      "w1= 0.6666666658975391; w2=0.6666666635704114; b=-3.6666666575609805\n",
      "w: [0.6666666658975391, 0.6666666635704114]; b: -3.6666666575609805 \n",
      "\n",
      "w.x + b > 0 for positive class\n",
      "w.x + b < 0 for negative class\n"
     ]
    },
    {
     "data": {
      "image/png": "[encoded data removed]",
      "text/plain": [
       "<Figure size 360x360 with 1 Axes>"
      ]
     },
     "metadata": {
      "needs_background": "light"
     },
     "output_type": "display_data"
    }
   ],
   "source": [
    "data = [[4.0,3.0,1], [5.0,2.0,1], [1.0,2.0,-1], [3.0, 1.0, -1]]\n",
    "svm_proc(data)"
   ]
  }
 ],
 "metadata": {
  "kernelspec": {
   "display_name": "Python 3",
   "language": "python",
   "name": "python3"
  },
  "language_info": {
   "codemirror_mode": {
    "name": "ipython",
    "version": 3
   },
   "file_extension": ".py",
   "mimetype": "text/x-python",
   "name": "python",
   "nbconvert_exporter": "python",
   "pygments_lexer": "ipython3",
   "version": "3.9.12"
  }
 },
 "nbformat": 4,
 "nbformat_minor": 5
}
